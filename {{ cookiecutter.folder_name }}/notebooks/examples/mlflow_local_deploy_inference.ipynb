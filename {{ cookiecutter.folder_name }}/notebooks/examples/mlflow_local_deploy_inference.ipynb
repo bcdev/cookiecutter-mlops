{
 "cells": [
  {
   "cell_type": "markdown",
   "id": "684d7d47-cb4b-4476-985b-751cb30d410e",
   "metadata": {},
   "source": [
    "This notebook shows how you can run inference on a model after you deploy it either locally or in a docker container. Please read the `Deployment Workflow` section of the README before proceeding."
   ]
  },
  {
   "cell_type": "code",
   "execution_count": null,
   "id": "ed5f897d-44be-45d3-a29e-9b14e7ec5610",
   "metadata": {},
   "outputs": [],
   "source": [
    "import requests\n",
    "import numpy as np"
   ]
  },
  {
   "cell_type": "code",
   "execution_count": null,
   "id": "c190d485-f00a-4efd-a2c3-cdc6de9b04e5",
   "metadata": {},
   "outputs": [],
   "source": [
    "# Prepare your data (the data below is for the mnist model that we trained in the examples. For your own data, replace it.)\n",
    "\n",
    "raw_image = np.random.randint(0, 256, (28, 28), dtype=np.uint8)\n",
    "preprocessed = raw_image.reshape(28, 28, 1)\n",
    "\n",
    "payload = {\n",
    "    \"instances\": preprocessed.tolist()\n",
    "}\n",
    "\n",
    "url = \"http://127.0.0.1:5002/invocations\""
   ]
  },
  {
   "cell_type": "code",
   "execution_count": null,
   "id": "c6ed8cdc-de60-4efc-a167-5af43d642a38",
   "metadata": {
    "scrolled": true
   },
   "outputs": [],
   "source": [
    "response = requests.post(url, json=payload)\n",
    "\n",
    "print(\"Response from the model:\")\n",
    "print(response.json())"
   ]
  }
 ],
 "metadata": {
  "kernelspec": {
   "display_name": "Python 3 (ipykernel)",
   "language": "python",
   "name": "python3"
  },
  "language_info": {
   "codemirror_mode": {
    "name": "ipython",
    "version": 3
   },
   "file_extension": ".py",
   "mimetype": "text/x-python",
   "name": "python",
   "nbconvert_exporter": "python",
   "pygments_lexer": "ipython3",
   "version": "3.12.8"
  }
 },
 "nbformat": 4,
 "nbformat_minor": 5
}
