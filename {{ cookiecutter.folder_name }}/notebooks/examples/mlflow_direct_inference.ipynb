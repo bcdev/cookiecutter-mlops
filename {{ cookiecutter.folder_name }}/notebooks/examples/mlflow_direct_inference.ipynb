{
 "cells": [
  {
   "cell_type": "markdown",
   "id": "cf951146-e908-48db-b50b-bcc07b08bc45",
   "metadata": {},
   "source": [
    "This notebook shows you how you can quickly test your model for predictions without deploying them locally. Please make sure you have an MLFLow model before you proceed."
   ]
  },
  {
   "cell_type": "code",
   "execution_count": null,
   "id": "57d09e9a-3670-4a1a-aff3-02ac5818052a",
   "metadata": {
    "scrolled": true
   },
   "outputs": [],
   "source": [
    "import os\n",
    "import mlflow\n",
    "from dotenv import load_dotenv"
   ]
  },
  {
   "cell_type": "code",
   "execution_count": null,
   "id": "9bbd5427-705d-406f-9d9c-53cb94cbfceb",
   "metadata": {},
   "outputs": [],
   "source": [
    "load_dotenv()"
   ]
  },
  {
   "cell_type": "code",
   "execution_count": null,
   "id": "ba2b6be3-60e4-4568-a0d5-7b91db5d3fbb",
   "metadata": {},
   "outputs": [],
   "source": [
    "mlflow.set_tracking_uri(os.getenv(\"J_MLFLOW_SERVER_URI\"))"
   ]
  },
  {
   "cell_type": "markdown",
   "id": "2d20fc66-7948-4561-ae72-9f0431197bbd",
   "metadata": {},
   "source": [
    "Now, you need to find out your artifact path, you can find that in the MLFlow UI: http://localhost:5000.\n",
    "\n",
    "Navigate to your experiment and then go the Artifacts tab. You will find your Artifact path there.\n",
    "\n",
    "If you chose MinIO, the artifact path will start with `s3://`, else if you chose local, it will start with `mlflow-artifacts:/` (which is stored locally in your root directory of the project)"
   ]
  },
  {
   "cell_type": "code",
   "execution_count": null,
   "id": "0733b253-0810-4afd-b4f9-aaae42806f60",
   "metadata": {
    "scrolled": true
   },
   "outputs": [],
   "source": [
    "model_uri = \"<add-your-artifact-path-here>\"\n",
    "model = mlflow.pyfunc.load_model(model_uri)"
   ]
  },
  {
   "cell_type": "code",
   "execution_count": null,
   "id": "dc639ae0-ab96-4330-84d9-e8eff6886039",
   "metadata": {},
   "outputs": [],
   "source": [
    "# Prepare your data for your inference\n",
    "data = ..."
   ]
  },
  {
   "cell_type": "code",
   "execution_count": null,
   "id": "2cddafc7-d965-4133-b586-a1137766b1db",
   "metadata": {},
   "outputs": [],
   "source": [
    "# run your model for quick prediction result\n",
    "prediction = model.predict(data)\n",
    "print(prediction)"
   ]
  }
 ],
 "metadata": {
  "kernelspec": {
   "display_name": "Python 3 (ipykernel)",
   "language": "python",
   "name": "python3"
  },
  "language_info": {
   "codemirror_mode": {
    "name": "ipython",
    "version": 3
   },
   "file_extension": ".py",
   "mimetype": "text/x-python",
   "name": "python",
   "nbconvert_exporter": "python",
   "pygments_lexer": "ipython3",
   "version": "3.12.8"
  }
 },
 "nbformat": 4,
 "nbformat_minor": 5
}
