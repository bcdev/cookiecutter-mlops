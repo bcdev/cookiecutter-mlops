{
 "cells": [
  {
   "cell_type": "markdown",
   "id": "684d7d47-cb4b-4476-985b-751cb30d410e",
   "metadata": {},
   "source": [
    "This notebook shows how you can run inference on a model that is running in a docker container. Please read [this](https://github.com/bcdev/cookiecutter-mlops?tab=readme-ov-file#deploying-model-as-a-container-locally) section of the README before proceeding."
   ]
  },
  {
   "cell_type": "code",
   "execution_count": 7,
   "id": "ed5f897d-44be-45d3-a29e-9b14e7ec5610",
   "metadata": {},
   "outputs": [],
   "source": [
    "import requests\n",
    "import numpy as np\n"
   ]
  },
  {
   "cell_type": "code",
   "execution_count": 8,
   "id": "c190d485-f00a-4efd-a2c3-cdc6de9b04e5",
   "metadata": {},
   "outputs": [],
   "source": [
    "# Prepare your data and performing the same preprocessing steps that were peformed before the training.\n",
    "# We are currently also working on ways to package the preprocessing steps along with the model itself.\n",
    "\n",
    "raw_image = np.random.randint(0, 256, (28, 28), dtype=np.uint8)\n",
    "preprocessed = raw_image.astype(np.float32) / 255.0\n",
    "preprocessed = preprocessed.reshape(1, 28, 28, 1)\n",
    "\n",
    "payload = {\n",
    "    \"instances\": preprocessed.tolist()\n",
    "}\n",
    "\n",
    "url = \"http://127.0.0.1:5002/invocations\""
   ]
  },
  {
   "cell_type": "code",
   "execution_count": 9,
   "id": "c6ed8cdc-de60-4efc-a167-5af43d642a38",
   "metadata": {},
   "outputs": [
    {
     "name": "stdout",
     "output_type": "stream",
     "text": [
      "Response from the model:\n",
      "{'predictions': [[0.0040490045212209225, 0.0013357612770050764, 0.043549008667469025, 0.07381025701761246, 0.0002894885546993464, 0.05742983892560005, 0.1556326448917389, 0.0014604635071009398, 0.6614519953727722, 0.000991510576568544]]}\n"
     ]
    }
   ],
   "source": [
    "response = requests.post(url, json=payload)\n",
    "\n",
    "print(\"Response from the model:\")\n",
    "print(response.json())"
   ]
  }
 ],
 "metadata": {
  "kernelspec": {
   "display_name": "Python 3 (ipykernel)",
   "language": "python",
   "name": "python3"
  },
  "language_info": {
   "codemirror_mode": {
    "name": "ipython",
    "version": 3
   },
   "file_extension": ".py",
   "mimetype": "text/x-python",
   "name": "python",
   "nbconvert_exporter": "python",
   "pygments_lexer": "ipython3",
   "version": "3.12.8"
  }
 },
 "nbformat": 4,
 "nbformat_minor": 5
}
